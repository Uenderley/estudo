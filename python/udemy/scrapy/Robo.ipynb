{
 "cells": [
  {
   "cell_type": "code",
   "execution_count": 6,
   "metadata": {},
   "outputs": [],
   "source": [
    "class Point(object):\n",
    "    def __init__(self, x, y):\n",
    "        self.x = x\n",
    "        self.y = y\n",
    "    \n",
    "    def __str__(self):\n",
    "        return '<%s, %s>' % (self.x, self.y)\n",
    "\n",
    "class Reward(Point):\n",
    "    def __init__(self, x, y, name):\n",
    "        super(Reward, self).__init__(x, y)\n",
    "        self.name = name\n",
    "    \n",
    "    def __str__(self):\n",
    "        return '<%s, %s>: %s' % (self.x, self.y, self.name)\n",
    "\n",
    "class Robot(Point):\n",
    "    \n",
    "    def move_up(self):\n",
    "        if self.y < 10:\n",
    "            self.y += 1\n",
    "        else:\n",
    "            print('Movimento proibido')\n",
    "        \n",
    "    def move_down(self):\n",
    "        if self.y > 0:\n",
    "            self.y -= 1\n",
    "        else:\n",
    "            print('Movimento proibido')\n",
    "    \n",
    "    def move_left(self):\n",
    "        if self.x < 10:\n",
    "            self.x -= 1\n",
    "        else:\n",
    "            print('Movimento proibido')\n",
    "        \n",
    "    def move_right(self):\n",
    "        if self.x > 0:\n",
    "            self.x += 1\n",
    "        else:\n",
    "            print('Movimento proibido')\n",
    "        \n",
    "class Robot3D(Robot):\n",
    "    def __inot(self, x, y,z):\n",
    "        super(Robot3D, self).__init__(x, y)\n",
    "        self.z = z"
   ]
  },
  {
   "cell_type": "code",
   "execution_count": 3,
   "metadata": {},
   "outputs": [],
   "source": [
    "def check_reward(robot, rewards):\n",
    "    finded = False\n",
    "    for reward in rewards:\n",
    "        if reward.x == robot.x and reward.y == robot.y:\n",
    "            print('O robot achou a recompensa %s' % reward.name)\n",
    "            finded = True\n",
    "    return finded"
   ]
  },
  {
   "cell_type": "code",
   "execution_count": 87,
   "metadata": {},
   "outputs": [],
   "source": [
    "import random"
   ]
  },
  {
   "cell_type": "code",
   "execution_count": 4,
   "metadata": {},
   "outputs": [],
   "source": [
    "import random\n",
    "\n",
    "r1 = Reward(random.randint(0, 10), random.randint(0, 10), 'Moeda')\n",
    "r2 = Reward(random.randint(0, 10), random.randint(0, 10), 'Gasolina')\n",
    "r3 = Reward(random.randint(0, 10), random.randint(0, 10), 'Arma')\n",
    "rewards = [r1, r2, r3]\n",
    "\n",
    "robot = Robot(random.randint(0, 10), random.randint(0, 10))"
   ]
  },
  {
   "cell_type": "code",
   "execution_count": null,
   "metadata": {},
   "outputs": [],
   "source": []
  },
  {
   "cell_type": "code",
   "execution_count": null,
   "metadata": {},
   "outputs": [],
   "source": []
  },
  {
   "cell_type": "code",
   "execution_count": 5,
   "metadata": {},
   "outputs": [
    {
     "name": "stdout",
     "output_type": "stream",
     "text": [
      "Digite up, down, left or right para o movimento: up\n",
      "<7, 10>\n",
      "Digite up, down, left or right para o movimento: up\n",
      "Movimento proibido\n",
      "<7, 10>\n",
      "Digite up, down, left or right para o movimento: down\n",
      "Movimento proibido\n",
      "<7, 10>\n",
      "Digite up, down, left or right para o movimento: left\n",
      "<6, 10>\n",
      "Digite up, down, left or right para o movimento: left\n",
      "<5, 10>\n",
      "Digite up, down, left or right para o movimento: left\n",
      "<4, 10>\n",
      "Digite up, down, left or right para o movimento: left\n",
      "<3, 10>\n",
      "Digite up, down, left or right para o movimento: left\n",
      "<2, 10>\n",
      "Digite up, down, left or right para o movimento: u\n",
      "Movimento invalido\n",
      "Digite up, down, left or right para o movimento: u\n",
      "Movimento invalido\n"
     ]
    }
   ],
   "source": [
    "for i in range(10):\n",
    "    mov = input('Digite up, down, left or right para o movimento: ')\n",
    "    if mov == 'up':\n",
    "        robot.move_up()\n",
    "    elif mov == 'down':\n",
    "        robot.move_down()\n",
    "    elif mov == 'left':\n",
    "        robot.move_left()\n",
    "    elif mov == 'right':\n",
    "        robot.move_right()\n",
    "    else:\n",
    "        print('Movimento invalido')\n",
    "        continue\n",
    "    print(robot)\n",
    "    check_reward(robot, rewards)"
   ]
  }
 ],
 "metadata": {
  "kernelspec": {
   "display_name": "Python 3",
   "language": "python",
   "name": "python3"
  },
  "language_info": {
   "codemirror_mode": {
    "name": "ipython",
    "version": 3
   },
   "file_extension": ".py",
   "mimetype": "text/x-python",
   "name": "python",
   "nbconvert_exporter": "python",
   "pygments_lexer": "ipython3",
   "version": "3.5.2"
  }
 },
 "nbformat": 4,
 "nbformat_minor": 2
}
