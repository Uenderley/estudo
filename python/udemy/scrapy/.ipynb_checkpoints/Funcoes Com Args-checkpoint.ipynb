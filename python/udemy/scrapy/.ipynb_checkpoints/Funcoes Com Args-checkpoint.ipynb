{
 "cells": [
  {
   "cell_type": "code",
   "execution_count": 4,
   "metadata": {},
   "outputs": [],
   "source": [
    "def print_valores(*args, **kwargs):\n",
    "    print(args)#gera uma tupla\n",
    "    print(type(args))\n",
    "    print(type(kwargs))\n",
    "    print(kwargs)#gera um dicionario"
   ]
  },
  {
   "cell_type": "code",
   "execution_count": 7,
   "metadata": {},
   "outputs": [
    {
     "name": "stdout",
     "output_type": "stream",
     "text": [
      "('teste1', 'teste2')\n",
      "<class 'tuple'>\n",
      "<class 'dict'>\n",
      "{'parametro': 'teste3'}\n"
     ]
    }
   ],
   "source": [
    "print_valores('teste1','teste2',parametro='teste3')"
   ]
  },
  {
   "cell_type": "code",
   "execution_count": null,
   "metadata": {},
   "outputs": [],
   "source": [
    "def criar_contato(*args):\n",
    "    print('Digite as informações do contato')\n",
    "    info = {} #Dicionario\n",
    "    for arg in args:\n",
    "        info[arg] = input('Digite %s' % arg)\n",
    "    return info\n",
    "\n",
    "def salvar_contato(nome, email, telefone):\n",
    "    arquivo = open('contatos.csv','a')#w sempre sobrescreve - a appenda os valores\n",
    "    arquivo.write('%s,%s,%s\\n' % (nome,email,telefone))\n",
    "    arquivo.flush()\n",
    "    arquivo.close()\n",
    "    \n",
    "def ler_contatos():\n",
    "    arquivo = open('contatos.csv','r')\n",
    "    print(arquivo.read())"
   ]
  }
 ],
 "metadata": {
  "kernelspec": {
   "display_name": "Python 3",
   "language": "python",
   "name": "python3"
  },
  "language_info": {
   "codemirror_mode": {
    "name": "ipython",
    "version": 3
   },
   "file_extension": ".py",
   "mimetype": "text/x-python",
   "name": "python",
   "nbconvert_exporter": "python",
   "pygments_lexer": "ipython3",
   "version": "3.5.2"
  }
 },
 "nbformat": 4,
 "nbformat_minor": 2
}
