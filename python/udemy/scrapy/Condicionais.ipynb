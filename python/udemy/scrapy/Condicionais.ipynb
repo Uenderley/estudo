{
 "cells": [
  {
   "cell_type": "code",
   "execution_count": 10,
   "metadata": {},
   "outputs": [
    {
     "name": "stdout",
     "output_type": "stream",
     "text": [
      "digite um numero: 5\n"
     ]
    }
   ],
   "source": [
    "numero = 10\n",
    "chute = input('digite um numero: ')\n",
    "chute = int(chute)"
   ]
  },
  {
   "cell_type": "code",
   "execution_count": 12,
   "metadata": {},
   "outputs": [
    {
     "name": "stdout",
     "output_type": "stream",
     "text": [
      "Voce errou, o valor é maior\n",
      "Errou! a diferenca é: 5 \n"
     ]
    }
   ],
   "source": [
    "if numero == chute:\n",
    "    print('Acertou')\n",
    "else:\n",
    "    diferenca = numero - chute\n",
    "    if diferenca > 0:\n",
    "        print('Voce errou, o valor é maior')\n",
    "    else:\n",
    "        print('Voce errou o valor é menor')\n",
    "    print('Errou! a diferenca é: %s ' % diferenca)"
   ]
  },
  {
   "cell_type": "code",
   "execution_count": 13,
   "metadata": {},
   "outputs": [
    {
     "name": "stdout",
     "output_type": "stream",
     "text": [
      "Voce errou, o valor é maior\n"
     ]
    }
   ],
   "source": [
    "diferenca = numero - chute\n",
    "if diferenca == 0:\n",
    "    print('Acertou')\n",
    "elif diferenca > 0:\n",
    "    print('Voce errou, o valor é maior')\n",
    "else:\n",
    "    print('Voce errou o valor é menor')"
   ]
  }
 ],
 "metadata": {
  "kernelspec": {
   "display_name": "Python 3",
   "language": "python",
   "name": "python3"
  },
  "language_info": {
   "codemirror_mode": {
    "name": "ipython",
    "version": 3
   },
   "file_extension": ".py",
   "mimetype": "text/x-python",
   "name": "python",
   "nbconvert_exporter": "python",
   "pygments_lexer": "ipython3",
   "version": "3.5.2"
  }
 },
 "nbformat": 4,
 "nbformat_minor": 2
}
