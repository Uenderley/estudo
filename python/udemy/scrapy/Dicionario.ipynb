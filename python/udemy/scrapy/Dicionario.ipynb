{
 "cells": [
  {
   "cell_type": "code",
   "execution_count": 3,
   "metadata": {},
   "outputs": [],
   "source": [
    "def criar_contato():\n",
    "    print('Digite as informações do contato')\n",
    "    nome = input('Nome: ')\n",
    "    email = input('E-mail: ')\n",
    "    telefone = input('Telefone: ')\n",
    "    return {\n",
    "        'nome':nome,\n",
    "        'email':email,\n",
    "        'telefone':telefone\n",
    "    }\n",
    "\n",
    "def salvar_contato(nome, email, telefone):\n",
    "    arquivo = open('contatos.csv','a')#w sempre sobrescreve - a appenda os valores\n",
    "    arquivo.write('%s,%s,%s\\n' % (nome,email,telefone))\n",
    "    arquivo.flush()\n",
    "    arquivo.close()\n",
    "    \n",
    "def ler_contatos():\n",
    "    arquivo = open('contatos.csv','r')\n",
    "    print(arquivo.read())"
   ]
  },
  {
   "cell_type": "code",
   "execution_count": 5,
   "metadata": {},
   "outputs": [
    {
     "name": "stdout",
     "output_type": "stream",
     "text": [
      "Digite as informações do contato\n",
      "Nome: testeeee\n",
      "E-mail: 333333333\n",
      "Telefone: 33333\n",
      "kk,kkk,kk3,3,3\n",
      "testeeee,333333333,33333\n",
      "testeeee,333333333,33333\n",
      "\n"
     ]
    }
   ],
   "source": [
    "contato = criar_contato()\n",
    "salvar_contato(**contato) # Forma abreviada da funcao abaixo\n",
    "salvar_contato(nome=contato['nome'], email=contato['email'], telefone=contato['telefone']) \n",
    "ler_contatos()"
   ]
  },
  {
   "cell_type": "code",
   "execution_count": null,
   "metadata": {},
   "outputs": [],
   "source": []
  }
 ],
 "metadata": {
  "kernelspec": {
   "display_name": "Python 3",
   "language": "python",
   "name": "python3"
  },
  "language_info": {
   "codemirror_mode": {
    "name": "ipython",
    "version": 3
   },
   "file_extension": ".py",
   "mimetype": "text/x-python",
   "name": "python",
   "nbconvert_exporter": "python",
   "pygments_lexer": "ipython3",
   "version": "3.5.2"
  }
 },
 "nbformat": 4,
 "nbformat_minor": 2
}
